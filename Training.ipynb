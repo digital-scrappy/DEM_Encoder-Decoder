{
  "nbformat": 4,
  "nbformat_minor": 0,
  "metadata": {
    "colab": {
      "name": "Training",
      "provenance": [],
      "collapsed_sections": [
        "AM5oPu0SYrnR"
      ]
    },
    "kernelspec": {
      "name": "python3",
      "display_name": "Python 3"
    },
    "language_info": {
      "name": "python"
    },
    "accelerator": "GPU"
  },
  "cells": [
    {
      "cell_type": "code",
      "metadata": {
        "colab": {
          "base_uri": "https://localhost:8080/"
        },
        "id": "Vza6OnDDjFeL",
        "outputId": "77311ae7-388c-41ba-d4a1-ec4b6017f178"
      },
      "source": [
        "from google.colab import drive\n",
        "drive.mount('/content/drive')\n"
      ],
      "execution_count": null,
      "outputs": [
        {
          "output_type": "stream",
          "name": "stdout",
          "text": [
            "Drive already mounted at /content/drive; to attempt to forcibly remount, call drive.mount(\"/content/drive\", force_remount=True).\n"
          ]
        }
      ]
    },
    {
      "cell_type": "code",
      "metadata": {
        "colab": {
          "base_uri": "https://localhost:8080/"
        },
        "id": "kjboeLB6laUQ",
        "outputId": "a2ba717e-fa02-43fb-a34b-6e1462e9644c"
      },
      "source": [
        "!pip install rasterio"
      ],
      "execution_count": null,
      "outputs": [
        {
          "output_type": "stream",
          "name": "stdout",
          "text": [
            "Requirement already satisfied: rasterio in /usr/local/lib/python3.7/dist-packages (1.2.6)\n",
            "Requirement already satisfied: attrs in /usr/local/lib/python3.7/dist-packages (from rasterio) (21.2.0)\n",
            "Requirement already satisfied: setuptools in /usr/local/lib/python3.7/dist-packages (from rasterio) (57.4.0)\n",
            "Requirement already satisfied: cligj>=0.5 in /usr/local/lib/python3.7/dist-packages (from rasterio) (0.7.2)\n",
            "Requirement already satisfied: click-plugins in /usr/local/lib/python3.7/dist-packages (from rasterio) (1.1.1)\n",
            "Requirement already satisfied: snuggs>=1.4.1 in /usr/local/lib/python3.7/dist-packages (from rasterio) (1.4.7)\n",
            "Requirement already satisfied: affine in /usr/local/lib/python3.7/dist-packages (from rasterio) (2.3.0)\n",
            "Requirement already satisfied: numpy in /usr/local/lib/python3.7/dist-packages (from rasterio) (1.19.5)\n",
            "Requirement already satisfied: certifi in /usr/local/lib/python3.7/dist-packages (from rasterio) (2021.5.30)\n",
            "Requirement already satisfied: click>=4.0 in /usr/local/lib/python3.7/dist-packages (from rasterio) (7.1.2)\n",
            "Requirement already satisfied: pyparsing>=2.1.6 in /usr/local/lib/python3.7/dist-packages (from snuggs>=1.4.1->rasterio) (2.4.7)\n"
          ]
        }
      ]
    },
    {
      "cell_type": "markdown",
      "metadata": {
        "id": "ObR8VQm7lMHi"
      },
      "source": [
        "# traindata loader"
      ]
    },
    {
      "cell_type": "code",
      "metadata": {
        "id": "1rjBaKGQlKuN"
      },
      "source": [
        "from pathlib import Path\n",
        "import rasterio\n",
        "import os\n",
        "import numpy as np\n",
        "\n",
        "import torch\n",
        "import torch.autograd as autograd\n",
        "from torch.utils.data.dataset import Dataset\n",
        "from torch.utils.data.dataloader import DataLoader\n",
        "\n",
        "\n",
        "class DEM_Data(Dataset):\n",
        "\n",
        "    def __init__(self, tif_dir, augment=True, cuda=False):\n",
        "        files = os.listdir(tif_dir)\n",
        "        self.paths = [(tif_dir / i) for i in files if i.endswith(\".tif\")]\n",
        "        self.total_files = len(self.paths)\n",
        "        self.cuda = cuda\n",
        "        self.data = []\n",
        "        self.faulty_files = 0\n",
        "\n",
        "        for index, file_path in enumerate(self.paths):\n",
        "          if index % 100 == 0:\n",
        "            print(f\"{index}/{len(self.paths)}\")\n",
        "          with rasterio.open(file_path) as handle:\n",
        "            augmentations = []\n",
        "\n",
        "            if handle.shape != (500,500):\n",
        "              faulty_files += 1\n",
        "              print(f\"wrong shape {faulty_files}\")\n",
        "              continue\n",
        "            dem_array = handle.read(1)[0:495,0:495]\n",
        "            dem_array = dem_array[np.newaxis, ...]\n",
        "            augmentations.append(dem_array)\n",
        "\n",
        "            if augment:\n",
        "              augmentations.append(np.rot90(dem_array, 1,(1,2)))\n",
        "              augmentations.append(np.rot90(dem_array, 2,(1,2)))\n",
        "              augmentations.append(np.rot90(dem_array, 3,(1,2)))\n",
        "              augmentations.append(np.flip(dem_array,1))\n",
        "              augmentations.append(np.flip(dem_array,2))\n",
        "\n",
        "            for i in augmentations:\n",
        "              self.data.append(i)\n",
        "\n",
        "\n",
        "\n",
        "    def __getitem__(self, idx):\n",
        "      if self.cuda:\n",
        "        return torch.cuda.FloatTensor(self.data[idx].copy())\n",
        "      else:\n",
        "          return torch.FloatTensor(self.data[idx].copy())\n",
        "\n",
        "        \n",
        "\n",
        "    \n",
        "\n",
        "    def __len__(self):\n",
        "        return len(self.data)\n",
        "\n",
        "\n",
        "class DataLD(object):\n",
        "    def __init__(self, tif_dir, augment=False, cuda=False):\n",
        "        self.dataset = DEM_Data(tif_dir, augment, cuda)\n",
        "\n",
        "    def get_loader(self, shuf=True, batch_size=1):\n",
        "        data_loader = DataLoader(dataset=self.dataset,\n",
        "                                 batch_size=batch_size,\n",
        "                                 shuffle=shuf\n",
        "                                 )\n",
        "        return data_loader\n"
      ],
      "execution_count": null,
      "outputs": []
    },
    {
      "cell_type": "markdown",
      "metadata": {
        "id": "cchbfOJ4lnJ2"
      },
      "source": [
        "# model"
      ]
    },
    {
      "cell_type": "code",
      "metadata": {
        "id": "CFZpfxKJlpyB"
      },
      "source": [
        "import torch\n",
        "import torch.nn as nn\n",
        "import torch.nn.functional as F\n",
        "\n",
        "class ConvAE(nn.Module):\n",
        "\n",
        "    def __init__(self):\n",
        "        super(ConvAE, self).__init__()\n",
        "\n",
        "        # shape (1001, 1251, 1)\n",
        "        self.conv1 = nn.Conv2d(1, 24, 4, padding = 1)\n",
        "        self.conv2 = nn.Conv2d(24, 16, 4,padding = 1)\n",
        "        self.conv3 = nn.Conv2d(16, 4, 4, padding= 1)\n",
        "\n",
        "        self.pool = nn.MaxPool2d(2,2)\n",
        "\n",
        "        self.t_conv1= nn.ConvTranspose2d(4, 16, 2, stride=2, output_padding=1)\n",
        "        self.t_conv2= nn.ConvTranspose2d(16, 24, 2, stride=2, output_padding =1)\n",
        "        self.t_conv3= nn.ConvTranspose2d(24, 1, 2, stride=2, output_padding =1)\n",
        "\n",
        "    def forward(self, x):\n",
        "        x = F.relu(self.conv1(x))\n",
        "        x = self.pool(x)\n",
        "        x = F.relu(self.conv2(x))\n",
        "        x = self.pool(x)\n",
        "        x = F.relu(self.conv3(x))\n",
        "        x = self.pool(x)\n",
        "\n",
        "\n",
        "        x = F.relu(self.t_conv1(x))\n",
        "        x = F.relu(self.t_conv2(x))\n",
        "        # linear output layer for reconstruction\n",
        "        x = self.t_conv3(x)\n",
        "\n",
        "        return x\n"
      ],
      "execution_count": null,
      "outputs": []
    },
    {
      "cell_type": "markdown",
      "metadata": {
        "id": "AM5oPu0SYrnR"
      },
      "source": [
        "# Fixing"
      ]
    },
    {
      "cell_type": "code",
      "metadata": {
        "colab": {
          "base_uri": "https://localhost:8080/",
          "height": 382
        },
        "id": "kEG-wl9EYqzS",
        "outputId": "707b58ef-154e-479f-bbdb-61a7d6e70bd7"
      },
      "source": [
        "\n",
        "tif_dir = Path(\"/content/drive/MyDrive/data/train/\")\n",
        "test_data = DataLD(tif_dir, True)\n",
        "data_loader = test_data.get_loader(batch_size= 30)\n",
        "batch_losses = []\n",
        "for i in data_loader:\n",
        "  print(i.shape)\n",
        "  break\n",
        "\n"
      ],
      "execution_count": null,
      "outputs": [
        {
          "output_type": "error",
          "ename": "KeyboardInterrupt",
          "evalue": "ignored",
          "traceback": [
            "\u001b[0;31m---------------------------------------------------------------------------\u001b[0m",
            "\u001b[0;31mKeyboardInterrupt\u001b[0m                         Traceback (most recent call last)",
            "\u001b[0;32m<ipython-input-5-ed4b57e55c05>\u001b[0m in \u001b[0;36m<module>\u001b[0;34m()\u001b[0m\n\u001b[1;32m      1\u001b[0m \u001b[0;34m\u001b[0m\u001b[0m\n\u001b[1;32m      2\u001b[0m \u001b[0mtif_dir\u001b[0m \u001b[0;34m=\u001b[0m \u001b[0mPath\u001b[0m\u001b[0;34m(\u001b[0m\u001b[0;34m\"/content/drive/MyDrive/data/train/\"\u001b[0m\u001b[0;34m)\u001b[0m\u001b[0;34m\u001b[0m\u001b[0;34m\u001b[0m\u001b[0m\n\u001b[0;32m----> 3\u001b[0;31m \u001b[0mtest_data\u001b[0m \u001b[0;34m=\u001b[0m \u001b[0mDataLD\u001b[0m\u001b[0;34m(\u001b[0m\u001b[0mtif_dir\u001b[0m\u001b[0;34m,\u001b[0m \u001b[0;32mTrue\u001b[0m\u001b[0;34m)\u001b[0m\u001b[0;34m\u001b[0m\u001b[0;34m\u001b[0m\u001b[0m\n\u001b[0m\u001b[1;32m      4\u001b[0m \u001b[0mdata_loader\u001b[0m \u001b[0;34m=\u001b[0m \u001b[0mtest_data\u001b[0m\u001b[0;34m.\u001b[0m\u001b[0mget_loader\u001b[0m\u001b[0;34m(\u001b[0m\u001b[0mbatch_size\u001b[0m\u001b[0;34m=\u001b[0m \u001b[0;36m30\u001b[0m\u001b[0;34m)\u001b[0m\u001b[0;34m\u001b[0m\u001b[0;34m\u001b[0m\u001b[0m\n\u001b[1;32m      5\u001b[0m \u001b[0mbatch_losses\u001b[0m \u001b[0;34m=\u001b[0m \u001b[0;34m[\u001b[0m\u001b[0;34m]\u001b[0m\u001b[0;34m\u001b[0m\u001b[0;34m\u001b[0m\u001b[0m\n",
            "\u001b[0;32m<ipython-input-3-5b4e2808e4eb>\u001b[0m in \u001b[0;36m__init__\u001b[0;34m(self, tif_dir, cuda)\u001b[0m\n\u001b[1;32m     47\u001b[0m \u001b[0;32mclass\u001b[0m \u001b[0mDataLD\u001b[0m\u001b[0;34m(\u001b[0m\u001b[0mobject\u001b[0m\u001b[0;34m)\u001b[0m\u001b[0;34m:\u001b[0m\u001b[0;34m\u001b[0m\u001b[0;34m\u001b[0m\u001b[0m\n\u001b[1;32m     48\u001b[0m     \u001b[0;32mdef\u001b[0m \u001b[0m__init__\u001b[0m\u001b[0;34m(\u001b[0m\u001b[0mself\u001b[0m\u001b[0;34m,\u001b[0m \u001b[0mtif_dir\u001b[0m\u001b[0;34m,\u001b[0m \u001b[0mcuda\u001b[0m\u001b[0;34m=\u001b[0m\u001b[0;32mFalse\u001b[0m\u001b[0;34m)\u001b[0m\u001b[0;34m:\u001b[0m\u001b[0;34m\u001b[0m\u001b[0;34m\u001b[0m\u001b[0m\n\u001b[0;32m---> 49\u001b[0;31m         \u001b[0mself\u001b[0m\u001b[0;34m.\u001b[0m\u001b[0mdataset\u001b[0m \u001b[0;34m=\u001b[0m \u001b[0mDEM_Data\u001b[0m\u001b[0;34m(\u001b[0m\u001b[0mtif_dir\u001b[0m\u001b[0;34m,\u001b[0m \u001b[0mcuda\u001b[0m\u001b[0;34m)\u001b[0m\u001b[0;34m\u001b[0m\u001b[0;34m\u001b[0m\u001b[0m\n\u001b[0m\u001b[1;32m     50\u001b[0m \u001b[0;34m\u001b[0m\u001b[0m\n\u001b[1;32m     51\u001b[0m     \u001b[0;32mdef\u001b[0m \u001b[0mget_loader\u001b[0m\u001b[0;34m(\u001b[0m\u001b[0mself\u001b[0m\u001b[0;34m,\u001b[0m \u001b[0mshuf\u001b[0m\u001b[0;34m=\u001b[0m\u001b[0;32mTrue\u001b[0m\u001b[0;34m,\u001b[0m \u001b[0mbatch_size\u001b[0m\u001b[0;34m=\u001b[0m\u001b[0;36m1\u001b[0m\u001b[0;34m)\u001b[0m\u001b[0;34m:\u001b[0m\u001b[0;34m\u001b[0m\u001b[0;34m\u001b[0m\u001b[0m\n",
            "\u001b[0;32m<ipython-input-3-5b4e2808e4eb>\u001b[0m in \u001b[0;36m__init__\u001b[0;34m(self, tif_dir, cuda)\u001b[0m\n\u001b[1;32m     13\u001b[0m \u001b[0;34m\u001b[0m\u001b[0m\n\u001b[1;32m     14\u001b[0m     \u001b[0;32mdef\u001b[0m \u001b[0m__init__\u001b[0m\u001b[0;34m(\u001b[0m\u001b[0mself\u001b[0m\u001b[0;34m,\u001b[0m \u001b[0mtif_dir\u001b[0m\u001b[0;34m,\u001b[0m \u001b[0mcuda\u001b[0m\u001b[0;34m=\u001b[0m\u001b[0;32mFalse\u001b[0m\u001b[0;34m)\u001b[0m\u001b[0;34m:\u001b[0m\u001b[0;34m\u001b[0m\u001b[0;34m\u001b[0m\u001b[0m\n\u001b[0;32m---> 15\u001b[0;31m         \u001b[0mfiles\u001b[0m \u001b[0;34m=\u001b[0m \u001b[0mos\u001b[0m\u001b[0;34m.\u001b[0m\u001b[0mlistdir\u001b[0m\u001b[0;34m(\u001b[0m\u001b[0mtif_dir\u001b[0m\u001b[0;34m)\u001b[0m\u001b[0;34m\u001b[0m\u001b[0;34m\u001b[0m\u001b[0m\n\u001b[0m\u001b[1;32m     16\u001b[0m         \u001b[0mself\u001b[0m\u001b[0;34m.\u001b[0m\u001b[0mpaths\u001b[0m \u001b[0;34m=\u001b[0m \u001b[0;34m[\u001b[0m\u001b[0;34m(\u001b[0m\u001b[0mtif_dir\u001b[0m \u001b[0;34m/\u001b[0m \u001b[0mi\u001b[0m\u001b[0;34m)\u001b[0m \u001b[0;32mfor\u001b[0m \u001b[0mi\u001b[0m \u001b[0;32min\u001b[0m \u001b[0mfiles\u001b[0m \u001b[0;32mif\u001b[0m \u001b[0mi\u001b[0m\u001b[0;34m.\u001b[0m\u001b[0mendswith\u001b[0m\u001b[0;34m(\u001b[0m\u001b[0;34m\".tif\"\u001b[0m\u001b[0;34m)\u001b[0m\u001b[0;34m]\u001b[0m\u001b[0;34m\u001b[0m\u001b[0;34m\u001b[0m\u001b[0m\n\u001b[1;32m     17\u001b[0m         \u001b[0mself\u001b[0m\u001b[0;34m.\u001b[0m\u001b[0mtotal_files\u001b[0m \u001b[0;34m=\u001b[0m \u001b[0mlen\u001b[0m\u001b[0;34m(\u001b[0m\u001b[0mself\u001b[0m\u001b[0;34m.\u001b[0m\u001b[0mpaths\u001b[0m\u001b[0;34m)\u001b[0m\u001b[0;34m\u001b[0m\u001b[0;34m\u001b[0m\u001b[0m\n",
            "\u001b[0;31mKeyboardInterrupt\u001b[0m: "
          ]
        }
      ]
    },
    {
      "cell_type": "markdown",
      "metadata": {
        "id": "OS2iiVXHlxVk"
      },
      "source": [
        "# Training "
      ]
    },
    {
      "cell_type": "code",
      "metadata": {
        "id": "8PQWZWw4lzt_"
      },
      "source": [
        "def train_epoch(model, data, loss_function, optimizer, batch_size):\n",
        "  \n",
        "  batch_losses = []\n",
        "  model.cuda()\n",
        "  model.batch_size = batch_size\n",
        "\n",
        "  for index, batch in enumerate(data):\n",
        "      optimizer.zero_grad()\n",
        "      output = model(batch)\n",
        "\n",
        "      #print(f\"output:{output.shape} input:{batch.shape}\")\n",
        "\n",
        "      loss = loss_function(output, batch)\n",
        "\n",
        "      batch_losses.append(loss.item())\n",
        "\n",
        "      loss.backward()\n",
        "    \n",
        "      optimizer.step()\n",
        "      #print(f\"batch: {index}/{len(data)} - loss: {loss.item()}\")\n",
        "  return mean(batch_losses)\n"
      ],
      "execution_count": null,
      "outputs": []
    },
    {
      "cell_type": "code",
      "metadata": {
        "id": "QGwzMJtPzqdp"
      },
      "source": [
        "def test(model, data, loss_function ,batch_size=1):\n",
        "  with torch.no_grad():\n",
        "    model.batch_size = batch_size\n",
        "    conc_out = []\n",
        "    conc_batch = []\n",
        "    for index, batch in enumerate(data):\n",
        "      \n",
        "      output = model(batch)\n",
        "      conc_out.append(output.cpu())\n",
        "      conc_batch.append(batch.cpu())\n",
        "    conc_out = torch.cat(conc_out)\n",
        "    conc_batch = torch.cat(conc_batch)\n",
        "    val_loss  = loss_function(conc_out, conc_batch)\n",
        "    print(val_loss.item())\n",
        "\n",
        "  return val_loss.data\n",
        "\n",
        "\n"
      ],
      "execution_count": null,
      "outputs": []
    },
    {
      "cell_type": "code",
      "metadata": {
        "id": "2HFHobPdR7_H"
      },
      "source": [
        "import matplotlib.pyplot as plt\n",
        "%matplotlib inline\n",
        "def train(model, train, dev, loss_function, optimizer, epochs, batch_size, writer=None):\n",
        "  loss_history = []\n",
        "  for i in range(epochs):\n",
        "    print(f\"epoch:{i}\")\n",
        "    epoch_loss = train_epoch(model,train,loss_function, optimizer, batch_size)\n",
        "    test_loss = test(model, dev, loss_function)\n",
        "    loss_history.append((epoch_loss,test_loss))\n",
        "    print(f\"train loss: {epoch_loss}, test loss: {test_loss}\")\n",
        "    plt.plot(loss_history)\n",
        "    plt.show()\n",
        "  "
      ],
      "execution_count": null,
      "outputs": []
    },
    {
      "cell_type": "code",
      "metadata": {
        "colab": {
          "base_uri": "https://localhost:8080/"
        },
        "id": "gMCA6TwdedrW",
        "outputId": "6ef631f3-676b-4ae8-a41e-d5b12c6b4f5b"
      },
      "source": [
        "tif_dir = Path(\"/content/drive/MyDrive/data/\")\n",
        "train_data = DataLD(tif_dir / \"train\",True, True)\n",
        "train_loader = train_data.get_loader(batch_size = 20)\n",
        "\n",
        "dev_data = DataLD(tif_dir / \"dev\",False, True)\n",
        "dev_loader = dev_data.get_loader(batch_size = 1)"
      ],
      "execution_count": null,
      "outputs": [
        {
          "output_type": "stream",
          "name": "stdout",
          "text": [
            "0/2240\n"
          ]
        },
        {
          "output_type": "stream",
          "name": "stderr",
          "text": [
            "/usr/local/lib/python3.7/dist-packages/rasterio/__init__.py:220: NotGeoreferencedWarning: Dataset has no geotransform, gcps, or rpcs. The identity matrix be returned.\n",
            "  s = DatasetReader(path, driver=driver, sharing=sharing, **kwargs)\n"
          ]
        },
        {
          "output_type": "stream",
          "name": "stdout",
          "text": [
            "100/2240\n",
            "200/2240\n",
            "300/2240\n",
            "400/2240\n",
            "500/2240\n",
            "600/2240\n",
            "700/2240\n",
            "800/2240\n",
            "900/2240\n",
            "1000/2240\n",
            "1100/2240\n",
            "1200/2240\n",
            "1300/2240\n",
            "1400/2240\n",
            "1500/2240\n"
          ]
        }
      ]
    },
    {
      "cell_type": "code",
      "metadata": {
        "colab": {
          "base_uri": "https://localhost:8080/",
          "height": 1000
        },
        "id": "b6dK7WvGzbHt",
        "outputId": "fe3efc94-871b-4e25-d21b-58e36172d2f0"
      },
      "source": [
        "from statistics import mean\n",
        "\n",
        "\n",
        "model = ConvAE()\n",
        "device = torch.device(\"cuda\") if torch.cuda.is_available() else torch.device(\"cpu\")\n",
        "print(f'Selected device: {device}')\n",
        "model.to(device)\n",
        "\n",
        "\n",
        "\n",
        "loss_function = nn.MSELoss()\n",
        "optimizer = torch.optim.Adam(model.parameters(), lr=0.1)\n",
        "train(model, train_loader, dev_loader, loss_function, optimizer, 40, 10)"
      ],
      "execution_count": null,
      "outputs": [
        {
          "output_type": "stream",
          "name": "stdout",
          "text": [
            "Selected device: cuda\n",
            "epoch:0\n",
            "821606.8125\n",
            "train loss: 11054522.371210007, test loss: 821606.8125\n"
          ]
        },
        {
          "output_type": "display_data",
          "data": {
            "image/png": "[encoded data removed]",
            "text/plain": [
              "<Figure size 432x288 with 1 Axes>"
            ]
          },
          "metadata": {
            "needs_background": "light"
          }
        },
        {
          "output_type": "stream",
          "name": "stdout",
          "text": [
            "epoch:1\n",
            "818805.9375\n",
            "train loss: 701139.3922293527, test loss: 818805.9375\n"
          ]
        },
        {
          "output_type": "display_data",
          "data": {
            "image/png": "[encoded data removed]",
            "text/plain": [
              "<Figure size 432x288 with 1 Axes>"
            ]
          },
          "metadata": {
            "needs_background": "light"
          }
        },
        {
          "output_type": "stream",
          "name": "stdout",
          "text": [
            "epoch:2\n",
            "816201.4375\n",
            "train loss: 698757.8029901413, test loss: 816201.4375\n"
          ]
        },
        {
          "output_type": "display_data",
          "data": {
            "image/png": "[encoded data removed]",
            "text/plain": [
              "<Figure size 432x288 with 1 Axes>"
            ]
          },
          "metadata": {
            "needs_background": "light"
          }
        },
        {
          "output_type": "stream",
          "name": "stdout",
          "text": [
            "epoch:3\n",
            "818753.0625\n",
            "train loss: 697942.5186941965, test loss: 818753.0625\n"
          ]
        },
        {
          "output_type": "display_data",
          "data": {
            "image/png": "[encoded data removed]",
            "text/plain": [
              "<Figure size 432x288 with 1 Axes>"
            ]
          },
          "metadata": {
            "needs_background": "light"
          }
        },
        {
          "output_type": "stream",
          "name": "stdout",
          "text": [
            "epoch:4\n",
            "810931.875\n",
            "train loss: 696419.8776274181, test loss: 810931.875\n"
          ]
        },
        {
          "output_type": "display_data",
          "data": {
            "image/png": "[encoded data removed]",
            "text/plain": [
              "<Figure size 432x288 with 1 Axes>"
            ]
          },
          "metadata": {
            "needs_background": "light"
          }
        },
        {
          "output_type": "stream",
          "name": "stdout",
          "text": [
            "epoch:5\n"
          ]
        }
      ]
    },
    {
      "cell_type": "markdown",
      "metadata": {
        "id": "b0_6OkZSijjf"
      },
      "source": [
        "# Testing"
      ]
    },
    {
      "cell_type": "code",
      "metadata": {
        "id": "f5cw0jY1ilNN"
      },
      "source": [
        ""
      ],
      "execution_count": null,
      "outputs": []
    },
    {
      "cell_type": "code",
      "metadata": {
        "colab": {
          "base_uri": "https://localhost:8080/",
          "height": 35
        },
        "id": "HtwqpgYumCRY",
        "outputId": "4c34b6d0-0ccd-43cf-a272-0029675b764b"
      },
      "source": [
        "os.getcwd()"
      ],
      "execution_count": null,
      "outputs": [
        {
          "output_type": "execute_result",
          "data": {
            "application/vnd.google.colaboratory.intrinsic+json": {
              "type": "string"
            },
            "text/plain": [
              "'/content'"
            ]
          },
          "metadata": {},
          "execution_count": 12
        }
      ]
    }
  ]
}